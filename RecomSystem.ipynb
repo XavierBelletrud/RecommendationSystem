{
 "cells": [
  {
   "cell_type": "markdown",
   "metadata": {},
   "source": [
    "## LighFM\n",
    "\n",
    "M. Pontier vous contact pour l'aider à construire un système de recommandation. Il dispose d'une base de données comportant des données concernant ses utilisateurs (anonymisé) contenant les artistes qu'ils écoutent sur sa plateforme ainsi que le nombre d'écoutes.***Monsieur pontier souhaite recommander à ses utilisateur des artistes qu'il n'ont pas encore écoutés, et cela en fonction de leurs préférences musicale.***\n",
    "\n",
    "Monsieur pontier souhaite utiliser la librairie Lightfm, avec laquelle il a déjà un driver permettant de charger ses données qu'il vous fournit, un vrai bonus. Monsieur Pontier à pu voir que la documentation comporte plusieurs modèle, ***il souhaite évaluer les modèle sur une jeux de train/test et utiliser le meilleurs modéle.***\n",
    "\n",
    "***Pour l'évaluation, il souhaite comparer la mesure AUC, la précision et le rappel (visiter la documentation de Lightfm), qui devront être présenté dans un tableau.***\n",
    "\n",
    "Bonus 1\n",
    "Comparer les résulats de l'AUC avec le meilleurs modéle de lightfm et une PCA (TruncatedSDV).\n",
    "\n",
    "Bonus 2\n",
    "L'apprentissage devant être le plus rapide possible tout en obtenant les meilleurs résultats, il vous est demandé de trouver le nombre d'itération permettant d'atteindre la convergence de 95% de la valeur maximal d'AUC sur le jeux de test.\n",
    "\n",
    "Veille\n",
    "Quelle système de recommandation allez vous mettre en place ?\n",
    "\n",
    "Qu'est ce que Lightfm ?\n",
    "\n",
    "Qu'est ce un système de recommandation dit à \"implicit feedback\" ? Et a \"explicit feedback ?\n",
    "\n",
    "Ressources:\n",
    "LightFM: https://github.com/lyst/lightfm\n",
    "\n",
    "Jeux de données Last.fm : https://grouplens.org/datasets/hetrec-2011/\n",
    "\n",
    "The world is large and we know just a small part of it, dont forget the big picture: https://github.com/jihoo-kim/awesome-RecSys"
   ]
  },
  {
   "cell_type": "markdown",
   "metadata": {},
   "source": [
    "https://towardsdatascience.com/solving-business-usecases-by-recommender-system-using-lightfm-4ba7b3ac8e62"
   ]
  },
  {
   "cell_type": "code",
   "execution_count": 4,
   "metadata": {},
   "outputs": [
    {
     "data": {
      "text/plain": [
       "array([[0.        , 0.        , 0.        , ..., 0.        , 0.        ,\n",
       "        0.        ],\n",
       "       [0.        , 0.        , 0.        , ..., 0.        , 0.        ,\n",
       "        0.        ],\n",
       "       [0.        , 0.        , 0.        , ..., 0.        , 0.        ,\n",
       "        0.        ],\n",
       "       ...,\n",
       "       [0.        , 0.        , 0.        , ..., 0.        , 0.        ,\n",
       "        0.        ],\n",
       "       [0.        , 0.        , 0.        , ..., 0.        , 0.        ,\n",
       "        0.        ],\n",
       "       [0.        , 0.        , 0.00115397, ..., 0.        , 0.        ,\n",
       "        0.        ]])"
      ]
     },
     "execution_count": 4,
     "metadata": {},
     "output_type": "execute_result"
    }
   ],
   "source": [
    "import pandas as pd\n",
    "import numpy as np\n",
    "from lightfm import LightFM\n",
    "\n",
    "data = pd.read_csv('doc.csv')\n",
    "\n",
    "ratings_df = data.pivot(index='userID', columns='artistID', values='playCountScaled')\n",
    "ratings = ratings_df.fillna(0).values\n",
    "ratings"
   ]
  },
  {
   "cell_type": "code",
   "execution_count": 5,
   "metadata": {},
   "outputs": [
    {
     "name": "stdout",
     "output_type": "stream",
     "text": [
      "rating matrix shape (1892, 17632)\n"
     ]
    }
   ],
   "source": [
    "from scipy.sparse import csr_matrix\n",
    "\n",
    "# Build a sparse matrix\n",
    "X = csr_matrix(ratings)\n",
    "\n",
    "n_users, n_items = ratings_df.shape # n_items est le nombre d'artistes et n_users = nbre de pers\n",
    "print(\"rating matrix shape\", ratings_df.shape)\n",
    "\n",
    "user_ids = ratings_df.index.values\n",
    "artist_names = data.sort_values(\"artistID\")[\"name\"].unique()\n"
   ]
  },
  {
   "cell_type": "code",
   "execution_count": 6,
   "metadata": {},
   "outputs": [],
   "source": [
    "from lightfm import LightFM\n",
    "from lightfm.evaluation import auc_score, precision_at_k, recall_at_k\n",
    "from lightfm.cross_validation import random_train_test_split\n",
    "from lightfm.data import Dataset\n",
    "\n",
    "# Build data references + train test\n",
    "Xcoo = X.tocoo() # scipy = plusieurs form\n",
    "data = Dataset()\n",
    "data.fit(np.arange(n_users), np.arange(n_items))\n",
    "interactions, weights = data.build_interactions(zip(Xcoo.row, Xcoo.col, Xcoo.data)) \n",
    "train, test = random_train_test_split(interactions)"
   ]
  },
  {
   "cell_type": "code",
   "execution_count": 7,
   "metadata": {},
   "outputs": [
    {
     "data": {
      "text/plain": [
       "<lightfm.lightfm.LightFM at 0x7fc72e78b460>"
      ]
     },
     "execution_count": 7,
     "metadata": {},
     "output_type": "execute_result"
    }
   ],
   "source": [
    "# Train\n",
    "model = LightFM(learning_rate=0.05, loss='warp',learning_schedule='adadelta')\n",
    "model.fit(train, epochs=10, num_threads=2)"
   ]
  },
  {
   "cell_type": "code",
   "execution_count": 8,
   "metadata": {},
   "outputs": [
    {
     "name": "stdout",
     "output_type": "stream",
     "text": [
      "Precision: train 0.36, test 0.13.\n",
      "AUC: train 0.96, test 0.87.\n"
     ]
    }
   ],
   "source": [
    "# Evaluate\n",
    "train_precision = precision_at_k(model, train, k=10).mean()\n",
    "test_precision = precision_at_k(model, test, k=10, train_interactions=train).mean()\n",
    "\n",
    "train_auc = auc_score(model, train).mean()\n",
    "test_auc = auc_score(model, test, train_interactions=train).mean()\n",
    "\n",
    "print('Precision: train %.2f, test %.2f.' % (train_precision, test_precision))\n",
    "print('AUC: train %.2f, test %.2f.' % (train_auc, test_auc))\n",
    "\n",
    "\n"
   ]
  },
  {
   "cell_type": "code",
   "execution_count": 9,
   "metadata": {},
   "outputs": [
    {
     "name": "stdout",
     "output_type": "stream",
     "text": [
      "['The Killers' 'New Order' 'Radiohead' ... 'Motörhead' 'Destruction'\n",
      " 'Testament']\n"
     ]
    }
   ],
   "source": [
    "# Predict\n",
    "scores = model.predict(0, np.arange(n_items))\n",
    "top_items = artist_names[np.argsort(-scores)]\n",
    "print(top_items)\n"
   ]
  },
  {
   "cell_type": "code",
   "execution_count": 12,
   "metadata": {},
   "outputs": [
    {
     "data": {
      "text/plain": [
       "array(['Ke$ha', 'David Guetta', 'Avril Lavigne', ...,\n",
       "       'Александр Панайотов', 'Chris Dair', 'Asher Book'], dtype=object)"
      ]
     },
     "execution_count": 12,
     "metadata": {},
     "output_type": "execute_result"
    }
   ],
   "source": [
    "def get_recommendations(userID):\n",
    "    scores = model.predict(userID, np.arange(n_items))\n",
    "    top_items = artist_names[np.argsort(-scores)]\n",
    "    return top_items\n",
    "\n",
    "get_recommendations(1642)"
   ]
  },
  {
   "cell_type": "code",
   "execution_count": 14,
   "metadata": {},
   "outputs": [
    {
     "data": {
      "text/plain": [
       "dict_items([('loss', 'warp'), ('learning_schedule', 'adadelta'), ('learning_rate', 0.05)])"
      ]
     },
     "execution_count": 14,
     "metadata": {},
     "output_type": "execute_result"
    }
   ],
   "source": [
    "# Optimisation de paramètres avec GridSearch\n",
    "\n",
    "from sklearn.model_selection import ParameterGrid# Create the parameter grid based on the results of random search \n",
    "\n",
    "param_grid = {\n",
    "    'learning_rate': [0.05 , 0.08],\n",
    "    'learning_schedule':['adagrad','adadelta'],\n",
    "    'loss': ['warp','bpr','logistic','warp-kos']\n",
    "    \n",
    "}\n",
    "# definition liste score auc\n",
    "auc_score_values = []\n",
    "\n",
    "for grid in ParameterGrid(param_grid):\n",
    "    model = LightFM(**grid)\n",
    "    pred = model.fit(train)\n",
    "    auc_score_values.append(round(auc_score(model, test, train_interactions=train).mean(),3))\n",
    "    \n",
    "max_value = max(auc_score_values) \n",
    "max_index = np.argmax(auc_score_values)\n",
    "ParameterGrid(param_grid)[max_index ].items()"
   ]
  }
 ],
 "metadata": {
  "kernelspec": {
   "display_name": "Python 3",
   "language": "python",
   "name": "python3"
  },
  "language_info": {
   "codemirror_mode": {
    "name": "ipython",
    "version": 3
   },
   "file_extension": ".py",
   "mimetype": "text/x-python",
   "name": "python",
   "nbconvert_exporter": "python",
   "pygments_lexer": "ipython3",
   "version": "3.8.3"
  }
 },
 "nbformat": 4,
 "nbformat_minor": 4
}
